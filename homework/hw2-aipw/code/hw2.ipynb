{
 "cells": [
  {
   "cell_type": "markdown",
   "metadata": {},
   "source": [
    "# Homework 2: ATE Estimation with the voter turnout data"
   ]
  },
  {
   "cell_type": "markdown",
   "metadata": {},
   "source": [
    "## Introduction"
   ]
  },
  {
   "cell_type": "markdown",
   "metadata": {},
   "source": [
    "In this assignment, we'll be working with some of the data described in the paper [“Social Pressure and Voter Turnout: Evidence from a Large-Scale Field Experiment”](http://isps.yale.edu/sites/default/files/publication/2012/12/ISPS08-001.pdf) by Gerber et al. (2008).  We attained the data from this [Github repo](https://github.com/gsbDBI/ExperimentData/tree/master/Social), specifically this [file](https://raw.githubusercontent.com/gsbDBI/ExperimentData/master/Social/ProcessedData/socialpresswgeooneperhh_NEIGH.csv). It's also included in the assignment zip file.  In this assignment we'll build several ATE estimators by reduction to two estimations from incomplete data, as discussed in lecture. Parts of this notebook are based on a [notebook](https://gsbdbi.github.io/ml_tutorial/ate_tutorial/ate_tutorial.html) from a tutorial/course on causal inference at Stanford GSB.  Although not necessary, you may find it interesting to refer to, as they give more details about the covariates, and they they cover some methods that we don't get into (and vice versa)."
   ]
  },
  {
   "cell_type": "markdown",
   "metadata": {},
   "source": [
    "## Data prep"
   ]
  },
  {
   "cell_type": "code",
   "execution_count": 4,
   "metadata": {},
   "outputs": [],
   "source": [
    "%load_ext autoreload\n",
    "%autoreload 2"
   ]
  },
  {
   "cell_type": "code",
   "execution_count": 5,
   "metadata": {},
   "outputs": [],
   "source": [
    "import pandas as pd\n",
    "import numpy as np\n",
    "from sklearn.preprocessing import StandardScaler, PolynomialFeatures\n",
    "from sklearn.linear_model import LinearRegression, LogisticRegression\n",
    "from sklearn.tree import DecisionTreeRegressor\n",
    "from sklearn.ensemble import RandomForestClassifier, RandomForestRegressor\n",
    "from scipy.stats import norm, sem\n",
    "from scipy.interpolate import UnivariateSpline\n",
    "from sklearn.calibration import calibration_curve\n",
    "import matplotlib.pyplot as plt\n",
    "import seaborn as sns\n",
    "from scipy.stats.stats import pearsonr\n",
    "from numpy.random import default_rng"
   ]
  },
  {
   "cell_type": "code",
   "execution_count": 6,
   "metadata": {
    "id": "zYCddcESYhE6"
   },
   "outputs": [],
   "source": [
    "## Read the data, select some columns, and lightly process\n",
    "df = pd.read_csv('sp.csv.xz')\n",
    "cts_variables_names = [\"yob\", \"hh_size\", \"totalpopulation_estimate\",\n",
    "                         \"percent_male\", \"median_age\",\n",
    "                         \"percent_62yearsandover\",\n",
    "                         \"percent_white\", \"percent_black\",\n",
    "                         \"percent_asian\", \"median_income\",\n",
    "                         \"employ_20to64\", \"highschool\", \"bach_orhigher\",\n",
    "                         \"percent_hispanicorlatino\"]\n",
    "binary_variables_names = [\"sex\",\"g2000\", \"g2002\", \"p2000\", \"p2002\", \"p2004\"]\n",
    "scaled_cts_covariates = StandardScaler().fit_transform(df[cts_variables_names])\n",
    "binary_covariates = df[binary_variables_names]\n",
    "d = pd.DataFrame(np.concatenate((scaled_cts_covariates, binary_covariates), axis=1), \n",
    "                        columns=cts_variables_names+binary_variables_names, index=df.index)\n",
    "d[\"W\"] = df[\"treat_neighbors\"]\n",
    "d[\"Y\"] = df[\"outcome_voted\"]"
   ]
  },
  {
   "cell_type": "code",
   "execution_count": 7,
   "metadata": {},
   "outputs": [
    {
     "data": {
      "text/plain": [
       "0    81803\n",
       "1    38196\n",
       "Name: Y, dtype: int64"
      ]
     },
     "execution_count": 7,
     "metadata": {},
     "output_type": "execute_result"
    }
   ],
   "source": [
    "d['Y'].value_counts()"
   ]
  },
  {
   "cell_type": "markdown",
   "metadata": {},
   "source": [
    "### Problem 1: ATE for RCT\n",
    "All individuals in this experiment had an equal probability of being assigned to the treatment group, so the difference-of-means will be a reasonable estimator for the average treatment effect (ATE).  Write a function that computes the difference-of-means estimator for the treatment effect, along with an approximate 95% confidence interval.  Apply it to the dataset d computed above and report the results.  Save the estimate of the ATE and the radius of the confidence interval for later use."
   ]
  },
  {
   "cell_type": "code",
   "execution_count": 8,
   "metadata": {},
   "outputs": [],
   "source": [
    "def get_diff_of_means(d, alpha=0.05):\n",
    "    # TODO\n",
    "    treated_Y = d[d['W']==1]['Y']\n",
    "    control_Y =  d[d['W']==0]['Y']\n",
    "    \n",
    "    ate = treated_Y.mean()-control_Y.mean()\n",
    "    var_dom = treated_Y.var()/len(treated_Y)+control_Y.var()/len(control_Y)\n",
    "    std_dom = var_dom**.5\n",
    "    \n",
    "    ate_CI_radius = norm.ppf(1-alpha*2)*std_dom\n",
    "    \n",
    "    return ate,ate_CI_radius\n",
    "\n",
    "\n",
    "ate, ate_CI_radius = get_diff_of_means(d, alpha=0.05)"
   ]
  },
  {
   "cell_type": "code",
   "execution_count": 9,
   "metadata": {},
   "outputs": [
    {
     "name": "stdout",
     "output_type": "stream",
     "text": [
      "ATE: 0.08639696096960969\n",
      "ATE Radius: 0.0047975910420401105\n"
     ]
    }
   ],
   "source": [
    "print('ATE:',ate)\n",
    "print('ATE Radius:',ate_CI_radius)"
   ]
  },
  {
   "cell_type": "markdown",
   "metadata": {},
   "source": [
    "### Problem 2: ATE estimation with known confounders\n",
    "In this problem we're going to take a relatively small and biased subsample of our full dataset and try to use that to estimate the ATE. Our approach is to reduce ATE estimation to estimating a mean in the MAR setting.\n",
    "\n",
    "Below we give a function that takes a biased sample using an approach similar to [this one](https://gsbdbi.github.io/ml_tutorial/ate_tutorial/ate_tutorial.html#introducing_sampling_bias). The details aren't important for what follows."
   ]
  },
  {
   "cell_type": "code",
   "execution_count": 43,
   "metadata": {},
   "outputs": [
    {
     "name": "stdout",
     "output_type": "stream",
     "text": [
      "0.6583804865040542\n",
      "0.4248535404461704\n",
      "We've sampled 2740 instances out of 119999.\n"
     ]
    }
   ],
   "source": [
    "likely_voters =  (((d['g2002'] == 1) & (d['sex'] == 0)) | (d['p2004'] == 1))\n",
    "unlikely_voters_control = (~likely_voters) & (d[\"W\"] == 0)\n",
    "likely_voters_treatment = likely_voters & (d[\"W\"] == 1)\n",
    "print(likely_voters.mean())\n",
    "def get_biased_sample(d, overall_subsample_rate=.03, bias_rate=.4, rng=default_rng(0)):\n",
    "    keep_prob = overall_subsample_rate * np.ones(len(d))\n",
    "    keep_prob[unlikely_voters_control] *= bias_rate\n",
    "    keep_prob[likely_voters_treatment] *= bias_rate\n",
    "    keep = rng.random(len(d)) <= keep_prob\n",
    "    d_bias = d[keep]\n",
    "    \n",
    "    return d_bias\n",
    "\n",
    "d_bias = get_biased_sample(d)\n",
    "new_likely_voters =  (((d_bias['g2002'] == 1) & (d['sex'] == 0)) | (d['p2004'] == 1))\n",
    "print(new_likely_voters.mean())\n",
    "print(f\"We've sampled {len(d_bias)} instances out of {len(d)}.\")"
   ]
  },
  {
   "cell_type": "markdown",
   "metadata": {},
   "source": [
    "#### Part A\n",
    "Below we provide the function get_basic_MAR_estimators, which computes the complete-case mean and the IPW mean in the MAR setting with known propensity scores. You are to complete the get_ATE_estimators function below so that it *uses the get_basic_MAR_estimators function* and computes one ATE estimate for each type of estimator produced by get_basic_MAR_estimators (i.e. the complete-case mean and the IPW mean).  Use logistic regression to estimate the propensity scores from the data provided to the function.  Run the existing code block below to display the results."
   ]
  },
  {
   "cell_type": "code",
   "execution_count": 14,
   "metadata": {},
   "outputs": [],
   "source": [
    "def get_basic_MAR_estimators(Y, X, pi, R):\n",
    "    \"\"\"\n",
    "    \n",
    "    Args:\n",
    "        Y (pd.Series): the measurement of the outcome Y_i\n",
    "        X (pd.DataFrame): covariates, rows correspond to entries of Y\n",
    "        R (pd.Series): boolean series indicating whether Y was observed\n",
    "        pi (pd.Series): propensity scores corresponding to observations\n",
    "    \n",
    "    Returns:\n",
    "        dict of estimator names and estimates for EY\n",
    "    \"\"\"\n",
    "    est = {}\n",
    "    n = len(Y)\n",
    "    ## All the estimators below assume we know the pi (i.e. \"missing by design\")\n",
    "    est[\"mean\"] = np.mean(Y[R])\n",
    "    est[\"ipw_mean\"] = np.sum(Y[R] / pi[R]) / n\n",
    "    \n",
    "    return est"
   ]
  },
  {
   "cell_type": "code",
   "execution_count": 17,
   "metadata": {},
   "outputs": [],
   "source": [
    "def get_ATE_estimators(Y, X, W, get_MAR_estimators=get_basic_MAR_estimators):\n",
    "    \"\"\"\n",
    "    \n",
    "    Args:\n",
    "        Y (pd.Series): the measurement of the outcome Y_i\n",
    "        X (pd.DataFrame): covariates, rows correspond to entries or Y\n",
    "        W (pd.Series): 0/1 series indicating control (0) or treatment (1) assignment\n",
    "        get_MAR_estimators: function behaving like get_basic_MAR_estimators above\n",
    "    \n",
    "    Returns:\n",
    "        dict of ATE estimator names and estimates, same format as for get_MAR_estimators\n",
    "    \"\"\"   \n",
    "    # TODO\n",
    "    prop_model = LogisticRegression()\n",
    "    prop_model.fit(X,W)\n",
    "    propensities = prop_model.predict_proba(X)\n",
    "    #print(model.classes_)\n",
    "    pi_control, pi_treated = propensities[:,0],propensities[:,1]\n",
    "    \n",
    "    R_treated = W==1\n",
    "    R_control = W==0\n",
    "    \n",
    "    est_control = get_MAR_estimators(Y,X,pi_control,R_control)\n",
    "    est_treated = get_MAR_estimators(Y,X,pi_treated,R_treated)\n",
    "    \n",
    "    ate = {}\n",
    "    for key in est_control:\n",
    "        ate[key] = est_treated[key] - est_control[key]\n",
    "    return ate"
   ]
  },
  {
   "cell_type": "code",
   "execution_count": 18,
   "metadata": {},
   "outputs": [
    {
     "name": "stdout",
     "output_type": "stream",
     "text": [
      "{'mean': 0.03636661211129294, 'ipw_mean': 0.14150098309907239}\n"
     ]
    }
   ],
   "source": [
    "## Run the following and report \n",
    "d_bias = get_biased_sample(d, overall_subsample_rate=.03, bias_rate=.4, rng=default_rng(0))\n",
    "X = d_bias.drop(columns=['W','Y'])\n",
    "ate_est = get_ATE_estimators(Y=d_bias[\"Y\"], X=X, W=d_bias[\"W\"], get_MAR_estimators=get_basic_MAR_estimators)\n",
    "print(ate_est)"
   ]
  },
  {
   "cell_type": "markdown",
   "metadata": {},
   "source": [
    "#### Part B\n",
    "In this part we significantly expand our ATE estimators and see how they perform over repeated trials.  Complete get_MAR_estimators below to include \n",
    "- Self-normalized IPW mean\n",
    "- Linear regression imputation\n",
    "- IPW linear regression imputation (as defined in lecture)\n",
    "- IW linear regression imputation (as defined in lecture)\n",
    "- Augmented IPW using linear regression\n",
    "- [Optional (not for credit): nonlinear regression, or any other variations you'd like to try]\n",
    "\n",
    "Run the code below to assess performance of these estimators."
   ]
  },
  {
   "cell_type": "code",
   "execution_count": 30,
   "metadata": {},
   "outputs": [],
   "source": [
    "def get_MAR_estimators(Y, X, pi, R):\n",
    "    \"\"\"\n",
    "    \n",
    "    Args:\n",
    "        Y (pd.Series): the measurement of the outcome Y_i\n",
    "        X (pd.DataFrame): covariates, rows correspond to entries or Y\n",
    "        R (pd.Series): boolean series indicating whether Y was observed\n",
    "        pi (pd.Series): propensity scores corresponding to observations\n",
    "    \n",
    "    Returns:\n",
    "        dict of estimator names and estimates for EY\n",
    "    \"\"\"\n",
    "    est = {}\n",
    "    n = len(Y)\n",
    "    ## All the estimators below assume we know the pi (i.e. \"missing by design\")\n",
    "    est[\"mean\"] = np.mean(Y[R])\n",
    "    est[\"ipw_mean\"] = np.sum(Y[R] / pi[R]) / n\n",
    "    est[\"sn_ipw_mean\"] = np.sum(Y[R]/pi[R])/np.sum(1/pi[R])\n",
    "    \n",
    "    #Linear Imputation\n",
    "    model = LinearRegression()\n",
    "    model.fit(X[R],Y[R],)\n",
    "    est[\"impute_lr\"] = np.concatenate([model.predict(X[~R]),Y[R]]).mean()\n",
    "    \n",
    "    #Importance Weighting on the complete cases to incomplete cases, IW_linear\n",
    "    weights = (1-pi)/pi\n",
    "    model = LinearRegression()\n",
    "    #fit on complete cases, but predict on missing cases, then average to get estimate for Y\n",
    "    model.fit(X[R],Y[R],weights[R])\n",
    "    est[\"impute_iw_lr\"] = np.concatenate([model.predict(X[~R]),Y[R]]).mean()\n",
    "    \n",
    "    #Importance Weighting on the complete cases to ALL cases, IPW_Linear\n",
    "    weights = 1/pi\n",
    "    model = LinearRegression()\n",
    "    #Fit on complete cases, predict on ALL cases, then average to get estimate for Y\n",
    "    model.fit(X[R],Y[R],weights[R])\n",
    "    est[\"impute_ipw_lr\"] = model.predict(X).mean()\n",
    "    \n",
    "    #Augmented IPW\n",
    "    #F is fit on the complete cases to predict on ONLY complete cases\n",
    "    model = LinearRegression()\n",
    "    model.fit(X[R],Y[R],)\n",
    "    f_x = model.predict(X)\n",
    "    \n",
    "    est['a_ipw'] = ( np.sum( (Y*R)/pi - (f_x*R)/pi + f_x) )/n\n",
    "    \n",
    "    #Augmented IPW w/ IW\n",
    "    #F is fit on the complete cases to predict on ALL Cases\n",
    "    weights = 1/pi\n",
    "    model = LinearRegression()\n",
    "    model.fit(X[R],Y[R],weights[R])\n",
    "    f_x = model.predict(X)\n",
    "    \n",
    "    est['a_ipw_IW'] = ( np.sum( (Y*R)/pi - (f_x*R)/pi + f_x) )/n\n",
    "    \n",
    "    ## TODO\n",
    "    return est\n",
    "    \n"
   ]
  },
  {
   "cell_type": "code",
   "execution_count": 31,
   "metadata": {},
   "outputs": [
    {
     "name": "stdout",
     "output_type": "stream",
     "text": [
      "{'mean': 0.03636661211129294, 'ipw_mean': 0.14150098309907239, 'sn_ipw_mean': 0.10043918758877857, 'impute_lr': 0.06586463436122314, 'impute_iw_lr': 0.07797247353871739, 'impute_ipw_lr': 0.07930786641863158, 'a_ipw': 0.09223360039649053, 'a_ipw_IW': 0.07930786641863136}\n"
     ]
    }
   ],
   "source": [
    "## Run the following and report \n",
    "d_bias = get_biased_sample(d, overall_subsample_rate=.03, bias_rate=.4, rng=default_rng(0))\n",
    "X = d_bias.drop(columns=['W','Y'])\n",
    "ate_est = get_ATE_estimators(Y=d_bias[\"Y\"], X=X, W=d_bias[\"W\"], get_MAR_estimators=get_MAR_estimators)\n",
    "print(ate_est)"
   ]
  },
  {
   "cell_type": "code",
   "execution_count": 32,
   "metadata": {},
   "outputs": [],
   "source": [
    "def get_estimator_stats(estimates, true_parameter_value=None):\n",
    "    \"\"\"\n",
    " \n",
    "     Args:\n",
    "        estimates (pd.DataFrame): each row corresponds to collection of estimates for a sample and\n",
    "            each column corresponds to an estimator\n",
    "        true_parameter_value (float): the true parameter value that we will be comparing estimates to\n",
    "            \n",
    "    Returns:\n",
    "        pd.Dataframe where each row represents data about a single estimator\n",
    "    \"\"\"\n",
    "    \n",
    "    est_stat = []\n",
    "    for est in estimates.columns:\n",
    "        pred_means = estimates[est]\n",
    "        stat = {}\n",
    "        stat['stat'] = est\n",
    "        stat['mean'] = np.mean(pred_means)\n",
    "        stat['SD'] = np.std(pred_means)\n",
    "        stat['SE'] = np.std(pred_means) / np.sqrt(len(pred_means))\n",
    "        if true_parameter_value:\n",
    "            stat['bias'] = stat['mean'] - true_parameter_value\n",
    "            stat['RMSE'] = np.sqrt(np.mean((pred_means - true_parameter_value) ** 2))\n",
    "        est_stat.append(stat)\n",
    "\n",
    "    return pd.DataFrame(est_stat)\n"
   ]
  },
  {
   "cell_type": "code",
   "execution_count": 33,
   "metadata": {},
   "outputs": [],
   "source": [
    "def run_experiments(sampler, num_repeats=10,rng=default_rng(0)):\n",
    "    data_list = []\n",
    "    num_obs_list = []\n",
    "    for i in range(num_repeats): \n",
    "        d = sampler(rng)\n",
    "        X = d.drop(columns=['W','Y'])\n",
    "        ate_est = get_ATE_estimators(Y=d[\"Y\"], X=X, W=d[\"W\"], get_MAR_estimators=get_MAR_estimators)\n",
    "        data_list.append(ate_est)\n",
    "    results = pd.DataFrame(data_list)\n",
    "    return results"
   ]
  },
  {
   "cell_type": "code",
   "execution_count": null,
   "metadata": {},
   "outputs": [],
   "source": []
  },
  {
   "cell_type": "code",
   "execution_count": 34,
   "metadata": {},
   "outputs": [],
   "source": [
    "def sampler(rng):\n",
    "    return get_biased_sample(d, overall_subsample_rate=.06, bias_rate=.4, rng=rng)\n",
    "rng = default_rng(0)\n",
    "results = run_experiments(sampler, num_repeats=500, rng=rng) "
   ]
  },
  {
   "cell_type": "code",
   "execution_count": 35,
   "metadata": {},
   "outputs": [
    {
     "data": {
      "text/html": [
       "<div>\n",
       "<style scoped>\n",
       "    .dataframe tbody tr th:only-of-type {\n",
       "        vertical-align: middle;\n",
       "    }\n",
       "\n",
       "    .dataframe tbody tr th {\n",
       "        vertical-align: top;\n",
       "    }\n",
       "\n",
       "    .dataframe thead th {\n",
       "        text-align: right;\n",
       "    }\n",
       "</style>\n",
       "<table border=\"1\" class=\"dataframe\">\n",
       "  <thead>\n",
       "    <tr style=\"text-align: right;\">\n",
       "      <th></th>\n",
       "      <th>stat</th>\n",
       "      <th>mean</th>\n",
       "      <th>SD</th>\n",
       "      <th>SE</th>\n",
       "      <th>bias</th>\n",
       "      <th>RMSE</th>\n",
       "    </tr>\n",
       "  </thead>\n",
       "  <tbody>\n",
       "    <tr>\n",
       "      <th>0</th>\n",
       "      <td>mean</td>\n",
       "      <td>0.033087</td>\n",
       "      <td>0.018351</td>\n",
       "      <td>0.000821</td>\n",
       "      <td>-0.053310</td>\n",
       "      <td>0.056380</td>\n",
       "    </tr>\n",
       "    <tr>\n",
       "      <th>1</th>\n",
       "      <td>ipw_mean</td>\n",
       "      <td>0.134785</td>\n",
       "      <td>0.028370</td>\n",
       "      <td>0.001269</td>\n",
       "      <td>0.048388</td>\n",
       "      <td>0.056091</td>\n",
       "    </tr>\n",
       "    <tr>\n",
       "      <th>2</th>\n",
       "      <td>sn_ipw_mean</td>\n",
       "      <td>0.101437</td>\n",
       "      <td>0.025028</td>\n",
       "      <td>0.001119</td>\n",
       "      <td>0.015040</td>\n",
       "      <td>0.029199</td>\n",
       "    </tr>\n",
       "    <tr>\n",
       "      <th>3</th>\n",
       "      <td>impute_lr</td>\n",
       "      <td>0.087300</td>\n",
       "      <td>0.022025</td>\n",
       "      <td>0.000985</td>\n",
       "      <td>0.000903</td>\n",
       "      <td>0.022043</td>\n",
       "    </tr>\n",
       "    <tr>\n",
       "      <th>4</th>\n",
       "      <td>impute_iw_lr</td>\n",
       "      <td>0.086868</td>\n",
       "      <td>0.022254</td>\n",
       "      <td>0.000995</td>\n",
       "      <td>0.000471</td>\n",
       "      <td>0.022259</td>\n",
       "    </tr>\n",
       "    <tr>\n",
       "      <th>5</th>\n",
       "      <td>impute_ipw_lr</td>\n",
       "      <td>0.086888</td>\n",
       "      <td>0.022261</td>\n",
       "      <td>0.000996</td>\n",
       "      <td>0.000491</td>\n",
       "      <td>0.022267</td>\n",
       "    </tr>\n",
       "    <tr>\n",
       "      <th>6</th>\n",
       "      <td>a_ipw</td>\n",
       "      <td>0.087040</td>\n",
       "      <td>0.022588</td>\n",
       "      <td>0.001010</td>\n",
       "      <td>0.000643</td>\n",
       "      <td>0.022597</td>\n",
       "    </tr>\n",
       "    <tr>\n",
       "      <th>7</th>\n",
       "      <td>a_ipw_IW</td>\n",
       "      <td>0.086888</td>\n",
       "      <td>0.022261</td>\n",
       "      <td>0.000996</td>\n",
       "      <td>0.000491</td>\n",
       "      <td>0.022267</td>\n",
       "    </tr>\n",
       "  </tbody>\n",
       "</table>\n",
       "</div>"
      ],
      "text/plain": [
       "            stat      mean        SD        SE      bias      RMSE\n",
       "0           mean  0.033087  0.018351  0.000821 -0.053310  0.056380\n",
       "1       ipw_mean  0.134785  0.028370  0.001269  0.048388  0.056091\n",
       "2    sn_ipw_mean  0.101437  0.025028  0.001119  0.015040  0.029199\n",
       "3      impute_lr  0.087300  0.022025  0.000985  0.000903  0.022043\n",
       "4   impute_iw_lr  0.086868  0.022254  0.000995  0.000471  0.022259\n",
       "5  impute_ipw_lr  0.086888  0.022261  0.000996  0.000491  0.022267\n",
       "6          a_ipw  0.087040  0.022588  0.001010  0.000643  0.022597\n",
       "7       a_ipw_IW  0.086888  0.022261  0.000996  0.000491  0.022267"
      ]
     },
     "execution_count": 35,
     "metadata": {},
     "output_type": "execute_result"
    }
   ],
   "source": [
    "results_eval = get_estimator_stats(results, true_parameter_value=ate)\n",
    "results_eval"
   ]
  },
  {
   "cell_type": "markdown",
   "metadata": {},
   "source": [
    "#### Part C\n",
    "You should see that the ATE estimate based on the IPW mean is significantly biased, and the bias seems to be driving most of the RMSE. In class we showed that the IPW mean is an unbiased estimator for EY in the MAR setting, and the corresponding ATE estimator is also unbiased.  Why are we seeing bias in this experiment?\n"
   ]
  },
  {
   "cell_type": "markdown",
   "metadata": {},
   "source": [
    "We are seeing bias because of covariate shift.\n",
    "\n",
    "Previously, we got a biased sample of the data in the function `get_biased_sample`. If we examine the code/method/link given, we see that we are introducing a _sampling bias based on the covariate $X$ and the treatment variable $W$_. In particular, this means that the specifically the value of $X$ has an influence on whether or the the data point shows up in return of the `get biased sample` function. \n",
    "\n",
    "Our results generated in part B of this problem used the \"true value of ATE\" as was calculated in problem 1. The results in problem 1 were generated using the full dataset, which has a certain distribution of covariates $X$. In Problem 2, we dropped some likely treated voters, and dropped some unlikely non-treated voters. Note that how likely voters were defined `likely_voters =  (((d['g2002'] == 1) & (d['sex'] == 0)) | (d['p2004'] == 1))` depends only on the covariates $X$.\n",
    "\n",
    "Now, the code in the following cell shows that the ratio of likely voters before -> after dropping was 0.658 -> 0.424.\n",
    "\n",
    "It is likely that the CATE(likely voter) is different than the CATE(non-likely voter), though we do not show this explicity. \n",
    "\n",
    "Both those statements imply that there is a significant degree of covariate shift, which affects the estimate for the full ATE.\n",
    "\n",
    "\n",
    "\n",
    "\n"
   ]
  },
  {
   "cell_type": "code",
   "execution_count": 47,
   "metadata": {},
   "outputs": [
    {
     "name": "stdout",
     "output_type": "stream",
     "text": [
      "Proportion of likely voters before dropping: 0.6583804865040542\n",
      "Proportion of likely voters after dropping: 0.4248535404461704\n",
      "We've sampled 2740 instances out of 119999.\n"
     ]
    }
   ],
   "source": [
    "likely_voters =  (((d['g2002'] == 1) & (d['sex'] == 0)) | (d['p2004'] == 1))\n",
    "unlikely_voters_control = (~likely_voters) & (d[\"W\"] == 0)\n",
    "likely_voters_treatment = likely_voters & (d[\"W\"] == 1)\n",
    "print('Proportion of likely voters before dropping:', likely_voters.mean())\n",
    "def get_biased_sample(d, overall_subsample_rate=.03, bias_rate=.4, rng=default_rng(0)):\n",
    "    keep_prob = overall_subsample_rate * np.ones(len(d))\n",
    "    keep_prob[unlikely_voters_control] *= bias_rate\n",
    "    keep_prob[likely_voters_treatment] *= bias_rate\n",
    "    keep = rng.random(len(d)) <= keep_prob\n",
    "    d_bias = d[keep]\n",
    "    \n",
    "    return d_bias\n",
    "\n",
    "d_bias = get_biased_sample(d)\n",
    "new_likely_voters =  (((d_bias['g2002'] == 1) & (d['sex'] == 0)) | (d['p2004'] == 1))\n",
    "print('Proportion of likely voters after dropping:', new_likely_voters.mean())\n",
    "print(f\"We've sampled {len(d_bias)} instances out of {len(d)}.\")"
   ]
  },
  {
   "cell_type": "markdown",
   "metadata": {},
   "source": [
    "### Problem 3: Bootstrap confidence intervals for ATE\n",
    "Let's now consider a more realistic scenario, in which we only have a single sample to work with.  In this case it's very important to be able to include some form of uncertainty measure with our estimates.  In this problem we'll do this using the normal approximated bootstrap confidence intervals described in our module on CATEs. However, in this setting, rather than estimating the CATE, we're just estimating the ATE. \n",
    "\n",
    "#### Part A\n",
    "Complete the function get_stratified_bootstrap_CI to generate 95% normal approximated bootstrap confidence intervals for each of the ATE estimators we've developed above. Execute the code below to test the function and produce the results as a table and in a plot."
   ]
  },
  {
   "cell_type": "code",
   "execution_count": 36,
   "metadata": {},
   "outputs": [],
   "source": [
    "from collections import defaultdict\n",
    "from sklearn.utils import resample"
   ]
  },
  {
   "cell_type": "code",
   "execution_count": 37,
   "metadata": {},
   "outputs": [],
   "source": [
    "def get_bootstrap_stats(boot_estimates, full_estimates, alpha=0.05):\n",
    "    est_stat = []\n",
    "    signif_level = -norm.ppf(alpha/2)\n",
    "    for est in full_estimates:\n",
    "        est_boot = np.array(boot_estimates[est])\n",
    "        stat = {}\n",
    "        stat['estimator'] = est\n",
    "        stat['estimate'] = full_estimates[est]\n",
    "        #stat['mean_boot'] = np.mean(est_boot)\n",
    "        stat['SD'] = np.std(est_boot)\n",
    "        stat['CI_radius'] = signif_level * stat['SD']\n",
    "        stat['lower_ci'] = stat['estimate'] - stat['CI_radius']\n",
    "        stat['upper_ci'] = stat['estimate'] + stat['CI_radius']\n",
    "        est_stat.append(stat)\n",
    "\n",
    "    return pd.DataFrame(est_stat)\n",
    "\n",
    "\n",
    "def get_stratified_bootstrap_CI(Y, X, W, estimators, num_bootstrap=10, alpha=0.05):\n",
    "    \"\"\"\n",
    "    Returns:\n",
    "        pd.Dataframe with\n",
    "            column \"estimator\" with the name of the estimator,\n",
    "            column \"estimate\" which is the estimate based on (Y,X,W)\n",
    "                which serves as the center of our bootstrap confidence intervals\n",
    "            column \"CI_radius\" which is the radius of the confidence interval\n",
    "            (additional columns may be included as you wish)\n",
    "    \"\"\"    \n",
    "    #TODO\n",
    "    n = len(Y)\n",
    "    all_estimates = defaultdict(list)\n",
    "    est_list = []\n",
    "    treated_idx = (W==1).index\n",
    "    control_idx = (W==0).index\n",
    "    for ii in range(num_bootstrap):\n",
    "        treated_idx_to_use = np.random.choice(treated_idx,size = len(Y),replace=True)\n",
    "        control_idx_to_use = np.random.choice(control_idx,size = len(Y),replace=True)\n",
    "        idx_to_use = np.concatenate([treated_idx_to_use,control_idx_to_use])\n",
    "        Y_r = Y[idx_to_use] \n",
    "        X_r = X.loc[idx_to_use]\n",
    "        W_r = W[idx_to_use] \n",
    "        \n",
    "        est = get_ATE_estimators(Y_r, X_r, W_r, get_MAR_estimators=get_MAR_estimators)\n",
    "        est_list.append(est)\n",
    "    true_estimates = get_ATE_estimators(Y,X,W,get_MAR_estimators=get_MAR_estimators)\n",
    "    bootstrap_est=pd.DataFrame(est_list)\n",
    "    #display(bootstrap_est)\n",
    "    \n",
    "    return_df = get_bootstrap_stats(bootstrap_est,true_estimates,alpha=0.05)\n",
    "\n",
    "    return return_df\n",
    "\n",
    "    \n",
    "        \n",
    "        \n"
   ]
  },
  {
   "cell_type": "code",
   "execution_count": 38,
   "metadata": {},
   "outputs": [
    {
     "name": "stdout",
     "output_type": "stream",
     "text": [
      "A 95% confidence interval for the ATE based on the full dataset is 0.08639696096960969+/-0.0047975910420401105\n",
      "       estimator  estimate        SD  CI_radius  lower_ci  upper_ci\n",
      "0           mean  0.032720  0.012859   0.025204  0.007516  0.057924\n",
      "1       ipw_mean  0.138417  0.022325   0.043756  0.094660  0.182173\n",
      "2    sn_ipw_mean  0.093061  0.019295   0.037817  0.055245  0.130878\n",
      "3      impute_lr  0.084381  0.015389   0.030162  0.054219  0.114543\n",
      "4   impute_iw_lr  0.081245  0.015670   0.030713  0.050532  0.111958\n",
      "5  impute_ipw_lr  0.080742  0.015770   0.030909  0.049832  0.111651\n",
      "6          a_ipw  0.076795  0.016992   0.033305  0.043491  0.110100\n",
      "7       a_ipw_IW  0.080742  0.015770   0.030909  0.049832  0.111651\n"
     ]
    },
    {
     "data": {
      "text/plain": [
       "[Text(0, 0, 'mean'),\n",
       " Text(0, 1, 'ipw_mean'),\n",
       " Text(0, 2, 'sn_ipw_mean'),\n",
       " Text(0, 3, 'impute_lr'),\n",
       " Text(0, 4, 'impute_iw_lr'),\n",
       " Text(0, 5, 'impute_ipw_lr'),\n",
       " Text(0, 6, 'a_ipw'),\n",
       " Text(0, 7, 'a_ipw_IW'),\n",
       " Text(0, 8, 'Full data estimate')]"
      ]
     },
     "execution_count": 38,
     "metadata": {},
     "output_type": "execute_result"
    },
    {
     "data": {
      "image/png": "[encoded data removed]",
      "text/plain": [
       "<Figure size 360x504 with 1 Axes>"
      ]
     },
     "metadata": {
      "needs_background": "light"
     },
     "output_type": "display_data"
    }
   ],
   "source": [
    "rng = default_rng(8)\n",
    "d_samp = sampler(rng) # our single biased sample\n",
    "X = d_samp.drop(columns=['W','Y'])\n",
    "estimators = lambda Y, X, W: get_ATE_estimators(Y, X, W, get_MAR_estimators=get_MAR_estimators)\n",
    "ci = get_stratified_bootstrap_CI(Y=d_samp[\"Y\"], X=X, W=d_samp[\"W\"], estimators=estimators, num_bootstrap=500)\n",
    "print(f\"A 95% confidence interval for the ATE based on the full dataset is {ate}+/-{ate_CI_radius}\")\n",
    "print(ci)\n",
    "to_plot = ci[['estimator','estimate','CI_radius']]\n",
    "to_plot = to_plot.append({'estimator':'Full data estimate','estimate':ate,'CI_radius':ate_CI_radius}, ignore_index=True)\n",
    "fig, ax =plt.subplots(1,1, figsize=(5,7))\n",
    "ax.errorbar(to_plot['estimate'], np.arange(len(to_plot)), \\\n",
    "            xerr=to_plot['CI_radius'], \n",
    "            fmt='o', elinewidth=3, capsize=5)\n",
    "ax.grid('on')\n",
    "ax.set_yticks(np.arange(len(to_plot)))\n",
    "ax.set_yticklabels(to_plot[\"estimator\"])"
   ]
  },
  {
   "cell_type": "code",
   "execution_count": null,
   "metadata": {},
   "outputs": [],
   "source": []
  },
  {
   "cell_type": "code",
   "execution_count": null,
   "metadata": {},
   "outputs": [],
   "source": []
  },
  {
   "cell_type": "code",
   "execution_count": null,
   "metadata": {},
   "outputs": [],
   "source": []
  }
 ],
 "metadata": {
  "colab": {
   "collapsed_sections": [],
   "name": "hw2.ipynb",
   "provenance": []
  },
  "kernelspec": {
   "display_name": "Python 3",
   "language": "python",
   "name": "python3"
  },
  "language_info": {
   "codemirror_mode": {
    "name": "ipython",
    "version": 3
   },
   "file_extension": ".py",
   "mimetype": "text/x-python",
   "name": "python",
   "nbconvert_exporter": "python",
   "pygments_lexer": "ipython3",
   "version": "3.8.5"
  }
 },
 "nbformat": 4,
 "nbformat_minor": 4
}
